{
 "cells": [
  {
   "cell_type": "markdown",
   "id": "b99256ab-838f-461e-b8d1-1aba66f1ae1e",
   "metadata": {},
   "source": [
    "# Aim"
   ]
  },
  {
   "cell_type": "markdown",
   "id": "eb2e8b5f-8748-4548-a189-b6044675cd35",
   "metadata": {},
   "source": [
    "# 1. Setup"
   ]
  },
  {
   "cell_type": "markdown",
   "id": "bdb74df5-5899-4068-8e71-24da6738263b",
   "metadata": {},
   "source": [
    "## 1.1 Imports"
   ]
  },
  {
   "cell_type": "code",
   "execution_count": 1,
   "id": "5b384888-79a3-434d-b2d7-db0d8ee5552e",
   "metadata": {},
   "outputs": [],
   "source": [
    "import os\n",
    "import json\n",
    "import pandas as pd\n",
    "from google.cloud import storage"
   ]
  },
  {
   "cell_type": "markdown",
   "id": "e863b4db-d1e7-481d-b7c7-8c72564afd71",
   "metadata": {},
   "source": [
    "## 1.2. Download Data"
   ]
  },
  {
   "cell_type": "code",
   "execution_count": 2,
   "id": "5557aab8-1899-443d-a00c-d820a57d7423",
   "metadata": {},
   "outputs": [],
   "source": [
    "credential_json_path = \"credentials/interview task gcs credentials.json\""
   ]
  },
  {
   "cell_type": "code",
   "execution_count": 3,
   "id": "7d47e52a-a6c7-464d-8b49-abba88dbcfd4",
   "metadata": {},
   "outputs": [],
   "source": [
    "# Seems like this should create a client connected to the correct bucket I can interact with?\n",
    "storage_client = storage.Client.from_service_account_json(credential_json_path)"
   ]
  },
  {
   "cell_type": "code",
   "execution_count": 4,
   "id": "38ae41a4-0d1e-45d5-98c1-a11383004dfe",
   "metadata": {},
   "outputs": [],
   "source": [
    "filename_list = [\n",
    "    \"brand_affinity\",\n",
    "    \"demographics_responses\",\n",
    "    \"psychographics_responses\",\n",
    "    \"question_metadata\",\n",
    "]\n",
    "\n",
    "# gcs_path = \"gs://datascience_interview/filename.csv\"\n",
    "gcs_path = \"gs://datascience_interview/\""
   ]
  },
  {
   "cell_type": "code",
   "execution_count": null,
   "id": "0445769e-d37f-4456-b509-635bb846e6e6",
   "metadata": {},
   "outputs": [],
   "source": [
    "# bucket_string = \"datascience_interview\"\n",
    "\n",
    "# bucket = storage_client.get_bucket(bucket_string)\n",
    "\n",
    "# for filename in [filename_list[0]]:\n",
    "#     blob = bucket.get_blob(f\"{filename}.csv\")\n",
    "        \n",
    "# # buckets = storage_client.list_buckets()\n",
    "\n",
    "# # for bucket in buckets:\n",
    "# #     print(bucket.name)"
   ]
  },
  {
   "cell_type": "code",
   "execution_count": 8,
   "id": "16c0b772-dbcd-4f58-8021-4a8d68319cd0",
   "metadata": {},
   "outputs": [],
   "source": [
    "df_dict = {}\n",
    "\n",
    "for filename in filename_list:\n",
    "    df_path = os.path.join(gcs_path, filename + \".csv\")\n",
    "\n",
    "    df = pd.read_csv(\n",
    "        df_path,\n",
    "        storage_options={\"token\":credential_json_path}\n",
    "    )\n",
    "    df_dict[filename] = df"
   ]
  },
  {
   "cell_type": "markdown",
   "id": "b5c59f2e-9919-4822-a608-d4732bafc7a4",
   "metadata": {},
   "source": [
    "# 2. Explore data\n",
    "- How good is the join between the datasets?\n",
    "- Will I have to remove any features due to lack of coverage?\n",
    "- What's the best imputation method for the situation?\n",
    "- What's the ratio between categoric variables?"
   ]
  },
  {
   "cell_type": "code",
   "execution_count": 45,
   "id": "35a46064-485e-42d6-b77d-52ffbcad365c",
   "metadata": {},
   "outputs": [],
   "source": [
    "def dataset_summary(filename, df):\n",
    "    \"\"\"\n",
    "    Print a quick summary of a dataset\n",
    "    \"\"\"\n",
    "    describe_df = df.describe(include = \"all\")\n",
    "    describe_df.loc[\"dtype\"] = df.dtypes\n",
    "    describe_df.loc['null_perc'] = df.isnull().mean()\n",
    "    \n",
    "    print(filename)\n",
    "    print()\n",
    "    print(df.shape)\n",
    "    print(df.head(5))\n",
    "    print()\n",
    "    print(describe_df)\n",
    "    "
   ]
  },
  {
   "cell_type": "markdown",
   "id": "fb058eb2-cca4-4021-b9b0-a4e366a2209d",
   "metadata": {},
   "source": [
    "## 2.1 Brand Affinity\n",
    "Straightforward information detailing preference and existing customer\n",
    "- Only Ralph Lauren and Superdry, maybe Ralph Lauren affinity will correlate with Superdry affinity\n",
    "- Majority of id's are unique (53179/77763 = 68%)\n",
    "- No nulls\n",
    "- "
   ]
  },
  {
   "cell_type": "code",
   "execution_count": 46,
   "id": "7543ff91-35ac-443a-8e8e-ea0fbc29a5f7",
   "metadata": {},
   "outputs": [],
   "source": [
    "dataset_name = \"brand_affinity\"\n",
    "brand_affinity_df = df_dict[dataset_name]"
   ]
  },
  {
   "cell_type": "code",
   "execution_count": 47,
   "id": "9402b835-7eb5-485b-990b-d5cec37bd2f0",
   "metadata": {},
   "outputs": [
    {
     "name": "stdout",
     "output_type": "stream",
     "text": [
      "brand_affinity\n",
      "\n",
      "(77763, 4)\n",
      "                         id         brand  Consideration  Current_customer\n",
      "0  grOeZ3YVqJLMual3HMazUg==  Ralph Lauren              0                 0\n",
      "1  ffIVCOPjZoDSqTncGc7SQw==  Ralph Lauren              0                 0\n",
      "2  tCODG6eftl5nd0wJszZX0A==  Ralph Lauren              0                 0\n",
      "3  56hsYKdu/ROu+xNci/03TA==  Ralph Lauren              0                 0\n",
      "4  +NJ80YJjZkapCDGAJTEMyg==  Ralph Lauren              0                 0\n",
      "\n",
      "                                 id     brand Consideration Current_customer\n",
      "count                         77763     77763       77763.0          77763.0\n",
      "unique                        53179         2           NaN              NaN\n",
      "top        oGfozO75pF1RQmmmFdrGwg==  Superdry           NaN              NaN\n",
      "freq                              2     45449           NaN              NaN\n",
      "mean                            NaN       NaN      0.092872         0.012538\n",
      "std                             NaN       NaN      0.290255          0.11127\n",
      "min                             NaN       NaN           0.0              0.0\n",
      "25%                             NaN       NaN           0.0              0.0\n",
      "50%                             NaN       NaN           0.0              0.0\n",
      "75%                             NaN       NaN           0.0              0.0\n",
      "max                             NaN       NaN           1.0              1.0\n",
      "dtype                        object    object         int64            int64\n",
      "null_perc                       0.0       0.0           0.0              0.0\n"
     ]
    }
   ],
   "source": [
    "dataset_summary(dataset_name, brand_affinity_df)"
   ]
  },
  {
   "cell_type": "code",
   "execution_count": 52,
   "id": "553fdeb5-038a-4ce0-bc93-09dbe17674f9",
   "metadata": {},
   "outputs": [
    {
     "ename": "AttributeError",
     "evalue": "'Series' object has no attribute 'merge'",
     "output_type": "error",
     "traceback": [
      "\u001b[0;31m---------------------------------------------------------------------------\u001b[0m",
      "\u001b[0;31mAttributeError\u001b[0m                            Traceback (most recent call last)",
      "\u001b[0;32m/var/folders/jx/k0jsd6sx2ts5wr73t49ywys00000gq/T/ipykernel_38140/2168579690.py\u001b[0m in \u001b[0;36m?\u001b[0;34m()\u001b[0m\n\u001b[0;32m----> 3\u001b[0;31m \u001b[0mbrand_affinity_group_count_df\u001b[0m \u001b[0;34m=\u001b[0m \u001b[0mbrand_affinity_df\u001b[0m\u001b[0;34m.\u001b[0m\u001b[0mgroupby\u001b[0m\u001b[0;34m(\u001b[0m\u001b[0;34m[\u001b[0m\u001b[0;34m\"brand\"\u001b[0m\u001b[0;34m,\u001b[0m\u001b[0;34m\"Consideration\"\u001b[0m\u001b[0;34m]\u001b[0m\u001b[0;34m)\u001b[0m\u001b[0;34m[\u001b[0m\u001b[0;34m\"id\"\u001b[0m\u001b[0;34m]\u001b[0m\u001b[0;34m.\u001b[0m\u001b[0mcount\u001b[0m\u001b[0;34m(\u001b[0m\u001b[0;34m)\u001b[0m\u001b[0;34m\u001b[0m\u001b[0;34m\u001b[0m\u001b[0m\n\u001b[0m\u001b[1;32m      4\u001b[0m \u001b[0mbrand_count_df\u001b[0m \u001b[0;34m=\u001b[0m \u001b[0mbrand_affinity_df\u001b[0m\u001b[0;34m.\u001b[0m\u001b[0mgroupby\u001b[0m\u001b[0;34m(\u001b[0m\u001b[0;34m\"brand\"\u001b[0m\u001b[0;34m)\u001b[0m\u001b[0;34m[\u001b[0m\u001b[0;34m\"id\"\u001b[0m\u001b[0;34m]\u001b[0m\u001b[0;34m.\u001b[0m\u001b[0mcount\u001b[0m\u001b[0;34m(\u001b[0m\u001b[0;34m)\u001b[0m\u001b[0;34m\u001b[0m\u001b[0;34m\u001b[0m\u001b[0m\n\u001b[1;32m      5\u001b[0m \u001b[0mbrand_affinity_group_count_df\u001b[0m\u001b[0;34m.\u001b[0m\u001b[0mmerge\u001b[0m\u001b[0;34m(\u001b[0m\u001b[0mbrand_count_df\u001b[0m\u001b[0;34m,\u001b[0m \u001b[0mon\u001b[0m \u001b[0;34m=\u001b[0m \u001b[0;34m\"brand\"\u001b[0m\u001b[0;34m)\u001b[0m\u001b[0;34m\u001b[0m\u001b[0;34m\u001b[0m\u001b[0m\n\u001b[1;32m      6\u001b[0m \u001b[0;34m\u001b[0m\u001b[0m\n",
      "\u001b[0;32m~/Library/Caches/pypoetry/virtualenvs/havas-propensity-thb6Ajl2-py3.9/lib/python3.9/site-packages/pandas/core/generic.py\u001b[0m in \u001b[0;36m?\u001b[0;34m(self, name)\u001b[0m\n\u001b[1;32m   5985\u001b[0m             \u001b[0;32mand\u001b[0m \u001b[0mname\u001b[0m \u001b[0;32mnot\u001b[0m \u001b[0;32min\u001b[0m \u001b[0mself\u001b[0m\u001b[0;34m.\u001b[0m\u001b[0m_accessors\u001b[0m\u001b[0;34m\u001b[0m\u001b[0;34m\u001b[0m\u001b[0m\n\u001b[1;32m   5986\u001b[0m             \u001b[0;32mand\u001b[0m \u001b[0mself\u001b[0m\u001b[0;34m.\u001b[0m\u001b[0m_info_axis\u001b[0m\u001b[0;34m.\u001b[0m\u001b[0m_can_hold_identifiers_and_holds_name\u001b[0m\u001b[0;34m(\u001b[0m\u001b[0mname\u001b[0m\u001b[0;34m)\u001b[0m\u001b[0;34m\u001b[0m\u001b[0;34m\u001b[0m\u001b[0m\n\u001b[1;32m   5987\u001b[0m         ):\n\u001b[1;32m   5988\u001b[0m             \u001b[0;32mreturn\u001b[0m \u001b[0mself\u001b[0m\u001b[0;34m[\u001b[0m\u001b[0mname\u001b[0m\u001b[0;34m]\u001b[0m\u001b[0;34m\u001b[0m\u001b[0;34m\u001b[0m\u001b[0m\n\u001b[0;32m-> 5989\u001b[0;31m         \u001b[0;32mreturn\u001b[0m \u001b[0mobject\u001b[0m\u001b[0;34m.\u001b[0m\u001b[0m__getattribute__\u001b[0m\u001b[0;34m(\u001b[0m\u001b[0mself\u001b[0m\u001b[0;34m,\u001b[0m \u001b[0mname\u001b[0m\u001b[0;34m)\u001b[0m\u001b[0;34m\u001b[0m\u001b[0;34m\u001b[0m\u001b[0m\n\u001b[0m",
      "\u001b[0;31mAttributeError\u001b[0m: 'Series' object has no attribute 'merge'"
     ]
    }
   ],
   "source": [
    "brand_affinity_group_count_df = brand_affinity_df.groupby([\"brand\",\"Consideration\"])[\"id\"].count()\n",
    "brand_count_df = brand_affinity_df.groupby(\"brand\")[\"id\"].count()\n",
    "brand_affinity_group_count_df.merge(brand_count_df, on = \"brand\")\n",
    "\n",
    "\n",
    "# print(brand_affinity_df.groupby([\"brand\",\"Current_customer\"])[\"id\"].count())"
   ]
  },
  {
   "cell_type": "markdown",
   "id": "c1bbb738-c450-4289-86bd-5bbdfc76e76c",
   "metadata": {},
   "source": [
    "## 2.1 Demographics Responses"
   ]
  },
  {
   "cell_type": "code",
   "execution_count": 27,
   "id": "193589aa-649f-491b-99f7-da836271badf",
   "metadata": {},
   "outputs": [],
   "source": [
    "dataset_name = \"demographics_responses\"\n",
    "demographics_responses_df = df_dict[dataset_name]"
   ]
  },
  {
   "cell_type": "code",
   "execution_count": 28,
   "id": "02948a0d-90f7-4af0-bf3e-b679c4c14771",
   "metadata": {},
   "outputs": [
    {
     "name": "stdout",
     "output_type": "stream",
     "text": [
      "demographics_responses\n",
      "(100000, 247)\n",
      "Index(['id', 'weights', 'pdlc_profile_govregldn',\n",
      "       'pdl_profile_socialgrade_cie', 'pdl_profile_work_type', 'pdlc_age',\n",
      "       'pdl_profile_gender', 'pdlc_ONS_urban', 'pdl_profile_work_stat',\n",
      "       'pdl_country_of_birth',\n",
      "       ...\n",
      "       'pdl_ownhomeval_pro_30d', 'pdl_price_increase_uk_1',\n",
      "       'pdl_price_increase_uk_13', 'pdl_price_increase_uk_14',\n",
      "       'pdl_price_increase_uk_2', 'pdl_price_increase_uk_4',\n",
      "       'pdl_price_increase_uk_5', 'pdl_price_increase_uk_6',\n",
      "       'pdl_price_increase_uk_7', 'pdl_price_increase_uk_8'],\n",
      "      dtype='object', length=247)\n",
      "                         id   weights  pdlc_profile_govregldn  \\\n",
      "0  MxbKENuQP3UFlKinNXjcVA==  1.847603                     2.0   \n",
      "1  ezeL427fibsSB7BUa4EppA==  0.127968                    13.0   \n",
      "2  2S+azYVTUdMz8NhL+gCLKA==  0.045906                    11.0   \n",
      "3  0xGg7EuARKU3x2qZpq5sxg==  1.773161                     8.0   \n",
      "4  30cUbuqBGeXPzIBrDW1Sjw==  0.042188                     2.0   \n",
      "\n",
      "   pdl_profile_socialgrade_cie  pdl_profile_work_type  pdlc_age  \\\n",
      "0                            2                      9        29   \n",
      "1                            1                      1        62   \n",
      "2                            3                      7        46   \n",
      "3                            4                      4        56   \n",
      "4                            2                      1        59   \n",
      "\n",
      "   pdl_profile_gender  pdlc_ONS_urban  pdl_profile_work_stat  \\\n",
      "0                   2               1                    1.0   \n",
      "1                   2               1                    1.0   \n",
      "2                   2               1                    3.0   \n",
      "3                   2               3                    2.0   \n",
      "4                   2               1                    1.0   \n",
      "\n",
      "   pdl_country_of_birth  ...  pdl_ownhomeval_pro_30d  pdl_price_increase_uk_1  \\\n",
      "0                   NaN  ...                     NaN                      NaN   \n",
      "1                   1.0  ...                     NaN                      NaN   \n",
      "2                 110.0  ...                     NaN                      NaN   \n",
      "3                   1.0  ...                     NaN                      NaN   \n",
      "4                   NaN  ...                     NaN                      NaN   \n",
      "\n",
      "   pdl_price_increase_uk_13  pdl_price_increase_uk_14  \\\n",
      "0                       NaN                       NaN   \n",
      "1                       NaN                       NaN   \n",
      "2                       NaN                       NaN   \n",
      "3                       NaN                       NaN   \n",
      "4                       NaN                       NaN   \n",
      "\n",
      "   pdl_price_increase_uk_2  pdl_price_increase_uk_4  pdl_price_increase_uk_5  \\\n",
      "0                      NaN                      NaN                      NaN   \n",
      "1                      NaN                      NaN                      NaN   \n",
      "2                      NaN                      NaN                      NaN   \n",
      "3                      NaN                      NaN                      NaN   \n",
      "4                      NaN                      NaN                      NaN   \n",
      "\n",
      "   pdl_price_increase_uk_6  pdl_price_increase_uk_7  pdl_price_increase_uk_8  \n",
      "0                      NaN                      NaN                      NaN  \n",
      "1                      NaN                      NaN                      NaN  \n",
      "2                      NaN                      NaN                      NaN  \n",
      "3                      NaN                      NaN                      NaN  \n",
      "4                      NaN                      NaN                      NaN  \n",
      "\n",
      "[5 rows x 247 columns]\n",
      "             weights  pdlc_profile_govregldn  pdl_profile_socialgrade_cie  \\\n",
      "count  100000.000000            99977.000000                100000.000000   \n",
      "mean        0.983519                6.718635                     2.863860   \n",
      "std         2.074031                3.390721                     1.465908   \n",
      "min         0.000475                1.000000                     1.000000   \n",
      "25%         0.118267                4.000000                     2.000000   \n",
      "50%         0.292895                7.000000                     3.000000   \n",
      "75%         0.765017                9.000000                     4.000000   \n",
      "max        12.000000               13.000000                     6.000000   \n",
      "\n",
      "       pdl_profile_work_type       pdlc_age  pdl_profile_gender  \\\n",
      "count          100000.000000  100000.000000        100000.00000   \n",
      "mean                3.332850      49.003970             1.56665   \n",
      "std                 2.419913      16.267522             0.49554   \n",
      "min                 1.000000      18.000000             1.00000   \n",
      "25%                 1.000000      35.000000             1.00000   \n",
      "50%                 3.000000      49.000000             2.00000   \n",
      "75%                 4.000000      62.000000             2.00000   \n",
      "max                 9.000000      98.000000             2.00000   \n",
      "\n",
      "       pdlc_ONS_urban  pdl_profile_work_stat  pdl_country_of_birth  \\\n",
      "count   100000.000000           95762.000000          95511.000000   \n",
      "mean         1.454480               2.820242             17.833318   \n",
      "std          1.090605               2.198377             98.061913   \n",
      "min          1.000000               1.000000              1.000000   \n",
      "25%          1.000000               1.000000              1.000000   \n",
      "50%          1.000000               2.000000              1.000000   \n",
      "75%          1.000000               5.000000              1.000000   \n",
      "max         10.000000               8.000000            997.000000   \n",
      "\n",
      "       pdlc_children_aged_18_under  ...  pdl_ownhomeval_pro_30d  \\\n",
      "count                 94639.000000  ...             1334.000000   \n",
      "mean                      1.743953  ...                3.080210   \n",
      "std                       0.436450  ...                1.433816   \n",
      "min                       1.000000  ...                1.000000   \n",
      "25%                       1.000000  ...                2.000000   \n",
      "50%                       2.000000  ...                3.000000   \n",
      "75%                       2.000000  ...                4.000000   \n",
      "max                       2.000000  ...                5.000000   \n",
      "\n",
      "       pdl_price_increase_uk_1  pdl_price_increase_uk_13  \\\n",
      "count              1546.000000               1546.000000   \n",
      "mean                  0.380983                  0.203105   \n",
      "std                   0.485786                  0.402440   \n",
      "min                   0.000000                  0.000000   \n",
      "25%                   0.000000                  0.000000   \n",
      "50%                   0.000000                  0.000000   \n",
      "75%                   1.000000                  0.000000   \n",
      "max                   1.000000                  1.000000   \n",
      "\n",
      "       pdl_price_increase_uk_14  pdl_price_increase_uk_2  \\\n",
      "count               1546.000000              1546.000000   \n",
      "mean                   0.525873                 0.313713   \n",
      "std                    0.499492                 0.464151   \n",
      "min                    0.000000                 0.000000   \n",
      "25%                    0.000000                 0.000000   \n",
      "50%                    1.000000                 0.000000   \n",
      "75%                    1.000000                 1.000000   \n",
      "max                    1.000000                 1.000000   \n",
      "\n",
      "       pdl_price_increase_uk_4  pdl_price_increase_uk_5  \\\n",
      "count              1546.000000              1546.000000   \n",
      "mean                  0.279431                 0.737387   \n",
      "std                   0.448865                 0.440196   \n",
      "min                   0.000000                 0.000000   \n",
      "25%                   0.000000                 0.000000   \n",
      "50%                   0.000000                 1.000000   \n",
      "75%                   1.000000                 1.000000   \n",
      "max                   1.000000                 1.000000   \n",
      "\n",
      "       pdl_price_increase_uk_6  pdl_price_increase_uk_7  \\\n",
      "count              1546.000000              1546.000000   \n",
      "mean                  0.382277                 0.287840   \n",
      "std                   0.486101                 0.452902   \n",
      "min                   0.000000                 0.000000   \n",
      "25%                   0.000000                 0.000000   \n",
      "50%                   0.000000                 0.000000   \n",
      "75%                   1.000000                 1.000000   \n",
      "max                   1.000000                 1.000000   \n",
      "\n",
      "       pdl_price_increase_uk_8  \n",
      "count              1546.000000  \n",
      "mean                  0.512937  \n",
      "std                   0.499994  \n",
      "min                   0.000000  \n",
      "25%                   0.000000  \n",
      "50%                   1.000000  \n",
      "75%                   1.000000  \n",
      "max                   1.000000  \n",
      "\n",
      "[8 rows x 246 columns]\n"
     ]
    }
   ],
   "source": [
    "dataset_summary(dataset_name, demographics_responses_df)"
   ]
  },
  {
   "cell_type": "code",
   "execution_count": null,
   "id": "e5e49534-f0be-49ee-bf65-28cd900bb6bb",
   "metadata": {},
   "outputs": [],
   "source": []
  }
 ],
 "metadata": {
  "kernelspec": {
   "display_name": "Python 3 (ipykernel)",
   "language": "python",
   "name": "python3"
  },
  "language_info": {
   "codemirror_mode": {
    "name": "ipython",
    "version": 3
   },
   "file_extension": ".py",
   "mimetype": "text/x-python",
   "name": "python",
   "nbconvert_exporter": "python",
   "pygments_lexer": "ipython3",
   "version": "3.9.10"
  }
 },
 "nbformat": 4,
 "nbformat_minor": 5
}
